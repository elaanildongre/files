{
  "nbformat": 4,
  "nbformat_minor": 0,
  "metadata": {
    "colab": {
      "provenance": []
    },
    "kernelspec": {
      "name": "python3",
      "display_name": "Python 3"
    },
    "language_info": {
      "name": "python"
    }
  },
  "cells": [
    {
      "cell_type": "markdown",
      "source": [
        "practical"
      ],
      "metadata": {
        "id": "U6aLJKZ0vbC8"
      }
    },
    {
      "cell_type": "markdown",
      "source": [
        "1. How can you open a file for writing in Python and write a string to it?"
      ],
      "metadata": {
        "id": "eseQ2X8xr0dG"
      }
    },
    {
      "cell_type": "code",
      "source": [
        "with open(\"newfile.text\", \"w\") as d:\n",
        "  d.write(\"welcome to new file, this is a story book, this story is about wild life\")\n"
      ],
      "metadata": {
        "id": "NvYbMGQVvPpN"
      },
      "execution_count": null,
      "outputs": []
    },
    {
      "cell_type": "code",
      "source": [
        "with open(\"newfile.text\", \"r\") as d:\n",
        "    a = d.read()\n",
        "print(a)"
      ],
      "metadata": {
        "colab": {
          "base_uri": "https://localhost:8080/"
        },
        "id": "V9RPSaXhxL_p",
        "outputId": "91b6a7af-a616-46ab-9f9e-a21f4da54e50"
      },
      "execution_count": null,
      "outputs": [
        {
          "output_type": "stream",
          "name": "stdout",
          "text": [
            "welcome to new file, this is a story book, this story is about wild life\n"
          ]
        }
      ]
    },
    {
      "cell_type": "markdown",
      "source": [
        " 2. Write a Python program to read the contents of a file and print each line"
      ],
      "metadata": {
        "id": "G0bsKVn5r0Zt"
      }
    },
    {
      "cell_type": "code",
      "source": [
        "with open(\"newfile.text\", \"w\") as d:\n",
        "  d.write(\"welcome to new file, this is a story book, this story is about wild life\")\n"
      ],
      "metadata": {
        "id": "T4rji7kvyRkF"
      },
      "execution_count": null,
      "outputs": []
    },
    {
      "cell_type": "code",
      "source": [
        "d = open(\"newfile.text\", \"r\")\n",
        "d.seek(0)\n",
        "print(d.readlines())\n",
        "d.close()"
      ],
      "metadata": {
        "colab": {
          "base_uri": "https://localhost:8080/"
        },
        "id": "Y2hZtXcW1_IL",
        "outputId": "f4e4ac99-3da8-49ff-cc79-3347b287c204"
      },
      "execution_count": null,
      "outputs": [
        {
          "output_type": "stream",
          "name": "stdout",
          "text": [
            "['welcome to new file, this is a story book, this story is about wild life']\n"
          ]
        }
      ]
    },
    {
      "cell_type": "code",
      "source": [
        "with open(\"newfile.text\", \"r\") as d:\n",
        "  for line in d:\n",
        "    print(line.strip(), \"\")"
      ],
      "metadata": {
        "colab": {
          "base_uri": "https://localhost:8080/"
        },
        "id": "cNgsdz3mxiI4",
        "outputId": "ba084f27-3cc5-4eb8-e421-35953a958384"
      },
      "execution_count": null,
      "outputs": [
        {
          "output_type": "stream",
          "name": "stdout",
          "text": [
            "welcome to new file, this is a story book, this story is about wild life  ,\n",
            " \n"
          ]
        }
      ]
    },
    {
      "cell_type": "markdown",
      "source": [
        "3. How would you handle a case where the file doesn't exist while trying to open it for reading?\n",
        "\n"
      ],
      "metadata": {
        "id": "Why5Itukr0Va"
      }
    },
    {
      "cell_type": "code",
      "source": [
        "try:\n",
        "   with open(\"nofile.text\", \"r\") as g:\n",
        "    print(g.read())\n",
        "except FileNotFoundError:\n",
        "    print(\"their is no such file\")\n"
      ],
      "metadata": {
        "colab": {
          "base_uri": "https://localhost:8080/"
        },
        "id": "cYke4hNzzSQO",
        "outputId": "bb4aff37-afee-465d-964f-da22d4bde7c2"
      },
      "execution_count": null,
      "outputs": [
        {
          "output_type": "stream",
          "name": "stdout",
          "text": [
            "their is no such file\n"
          ]
        }
      ]
    },
    {
      "cell_type": "markdown",
      "source": [
        "4. Write a Python script that reads from one file and writes its content to another file?"
      ],
      "metadata": {
        "id": "0YDxx5Yjr0Sw"
      }
    },
    {
      "cell_type": "code",
      "source": [
        "with open(\"newfile.text\", \"w\") as d:\n",
        "  d.write(\"welcome to new file, this is a story book, this story is about wild life\")\n",
        "\n",
        "\n",
        "\n",
        "with open(\"newfile.text\", \"r\") as source, open(\"nw.txt\", \"w\") as target:\n",
        " for line in source:\n",
        "  target.write(line)"
      ],
      "metadata": {
        "id": "rxvZ16bu3HU0"
      },
      "execution_count": null,
      "outputs": []
    },
    {
      "cell_type": "markdown",
      "source": [
        "5. How would you catch and handle division by zero error in Python?"
      ],
      "metadata": {
        "id": "ef6dzD1Qr0QH"
      }
    },
    {
      "cell_type": "code",
      "source": [
        "try:\n",
        "  result = 77/ 0\n",
        "except ZeroDivisionError:\n",
        "  print(\"this num van not br divided by zero\")\n"
      ],
      "metadata": {
        "colab": {
          "base_uri": "https://localhost:8080/"
        },
        "id": "uOv5lLGc3gIw",
        "outputId": "b0a03c96-3d1d-4102-cb97-8c0c5d263444"
      },
      "execution_count": null,
      "outputs": [
        {
          "output_type": "stream",
          "name": "stdout",
          "text": [
            "this num van not br divided by zero\n"
          ]
        }
      ]
    },
    {
      "cell_type": "markdown",
      "source": [
        "6. Write a Python program that logs an error message to a log file when a division by zero exception occurs?"
      ],
      "metadata": {
        "id": "eY9-jucUr0NR"
      }
    },
    {
      "cell_type": "code",
      "source": [
        "import logging\n",
        "logging.basicConfig(filename = \"new.log\")\n",
        "try:\n",
        "  g = 33/0\n",
        "except ZeroDivisionError:\n",
        "  logging.error(\"it is zero division error\")"
      ],
      "metadata": {
        "colab": {
          "base_uri": "https://localhost:8080/"
        },
        "id": "_4tFsLM54gDL",
        "outputId": "e3b9d1bf-6b1c-4682-e02e-f3dacc6a07ca"
      },
      "execution_count": null,
      "outputs": [
        {
          "output_type": "stream",
          "name": "stderr",
          "text": [
            "ERROR:root:it is zero division error\n"
          ]
        }
      ]
    },
    {
      "cell_type": "markdown",
      "source": [
        "7. How do you log information at different levels (INFO, ERROR, WARNING) in Python using the logging module?"
      ],
      "metadata": {
        "id": "xn5rpQXrr0KZ"
      }
    },
    {
      "cell_type": "code",
      "source": [
        "logging.basicConfig(filename= \"new.log\", level= logging.DEBUG)\n",
        "logging.info(\"this is intro message\")\n",
        "logging.warning(\"this is warning\")\n",
        "logging.error(\"this is an error\")"
      ],
      "metadata": {
        "colab": {
          "base_uri": "https://localhost:8080/"
        },
        "id": "Xpx0QBSj5uvZ",
        "outputId": "004bf8d9-80b7-4361-b08f-932b0b0153f7"
      },
      "execution_count": null,
      "outputs": [
        {
          "output_type": "stream",
          "name": "stderr",
          "text": [
            "WARNING:root:this is warning\n",
            "ERROR:root:this is an error\n"
          ]
        }
      ]
    },
    {
      "cell_type": "markdown",
      "source": [
        "8. Write a program to handle a file opening error using exception handling?"
      ],
      "metadata": {
        "id": "4SunHxkar0Ht"
      }
    },
    {
      "cell_type": "code",
      "source": [
        "try:\n",
        "  with open(\"nem.text\",\"r\") as g:\n",
        "    a = g.read()\n",
        "except IOError as i:\n",
        "  print(f\" error occured in opening the file\", {i})"
      ],
      "metadata": {
        "colab": {
          "base_uri": "https://localhost:8080/"
        },
        "id": "LyGSW9qH6m3l",
        "outputId": "e709fea5-ddd2-46ef-a648-b8335dc7771b"
      },
      "execution_count": null,
      "outputs": [
        {
          "output_type": "stream",
          "name": "stdout",
          "text": [
            " error occured in opening the file {FileNotFoundError(2, 'No such file or directory')}\n"
          ]
        }
      ]
    },
    {
      "cell_type": "markdown",
      "source": [
        "9. How can you read a file line by line and store its content in a list in Python?\n"
      ],
      "metadata": {
        "id": "LlWio0_BsN98"
      }
    },
    {
      "cell_type": "code",
      "source": [
        "with open(\"newfile.text\", \"w\") as d:\n",
        "  d.write(\"welcome to new file, this is a story book, this story is about wild life\")\n",
        "\n",
        "\n",
        "with open(\"newfile.text\", \"r\") as d:\n",
        "  line = (line.strip() for line in d )\n",
        "  print(d.readlines())"
      ],
      "metadata": {
        "colab": {
          "base_uri": "https://localhost:8080/"
        },
        "id": "Y4OJ4dxj7Pm2",
        "outputId": "6965219c-d5ca-45db-afd1-52cd84246ae7"
      },
      "execution_count": null,
      "outputs": [
        {
          "output_type": "stream",
          "name": "stdout",
          "text": [
            "['welcome to new file, this is a story book, this story is about wild life']\n"
          ]
        }
      ]
    },
    {
      "cell_type": "markdown",
      "source": [
        "10. How can you append data to an existing file in Python?"
      ],
      "metadata": {
        "id": "tuzlcEK5sN6j"
      }
    },
    {
      "cell_type": "code",
      "source": [
        "with open(\"newfile.text\", \"a\") as k:\n",
        "  k.write(\"new line is appended \")\n",
        "  print(k)"
      ],
      "metadata": {
        "colab": {
          "base_uri": "https://localhost:8080/"
        },
        "id": "WKduZU_n8vgW",
        "outputId": "6f89b059-6ab1-49e3-e0c4-be8e32c1ecdd"
      },
      "execution_count": null,
      "outputs": [
        {
          "output_type": "stream",
          "name": "stdout",
          "text": [
            "<_io.TextIOWrapper name='newfile.text' mode='a' encoding='utf-8'>\n"
          ]
        }
      ]
    },
    {
      "cell_type": "markdown",
      "source": [
        "11. Write a Python program that uses a try-except block to handle an error when attempting to access a\n",
        "dictionary key that doesn't exist?"
      ],
      "metadata": {
        "id": "h7FuMKWpsN1m"
      }
    },
    {
      "cell_type": "code",
      "source": [
        "try:\n",
        "  p = {\"n\": \"dffgg\", \"k\": \"gjhk\"}\n",
        "  print(p[\"l\"])\n",
        "except KeyError:\n",
        "  print(\"their is no such key exists\")"
      ],
      "metadata": {
        "colab": {
          "base_uri": "https://localhost:8080/"
        },
        "id": "71LYDo6q9sdB",
        "outputId": "82b07d8a-fb6c-4c97-a2e8-3314dc4ccf61"
      },
      "execution_count": null,
      "outputs": [
        {
          "output_type": "stream",
          "name": "stdout",
          "text": [
            "their is no such key exists\n"
          ]
        }
      ]
    },
    {
      "cell_type": "markdown",
      "source": [
        "12. Write a program that demonstrates using multiple except blocks to handle different types of exceptions?\n"
      ],
      "metadata": {
        "id": "6sEqft2zsNy9"
      }
    },
    {
      "cell_type": "code",
      "source": [
        "try :\n",
        "  h = str(\"2\", \"e\", \"rfd\", \"jk\")\n",
        "except ValueError:\n",
        "  print (\"this is value error\")\n",
        "except TypeError:\n",
        "  print ( \"this is type error\")"
      ],
      "metadata": {
        "colab": {
          "base_uri": "https://localhost:8080/"
        },
        "id": "UOyR8R0S-Oxx",
        "outputId": "7eb7917e-3fd1-4441-9b4a-67a6abdd43ac"
      },
      "execution_count": null,
      "outputs": [
        {
          "output_type": "stream",
          "name": "stdout",
          "text": [
            "this is type error\n"
          ]
        }
      ]
    },
    {
      "cell_type": "markdown",
      "source": [
        "13. Write a program that uses the logging module to log both informational and error messages?\n"
      ],
      "metadata": {
        "id": "HMqKdNHOsNtk"
      }
    },
    {
      "cell_type": "code",
      "source": [
        "import logging\n",
        "logging.basicConfig(filename= \"newfile3.log\", level= logging.DEBUG)\n",
        "logging.info(\"info\")\n",
        "logging.error(\"error\")"
      ],
      "metadata": {
        "colab": {
          "base_uri": "https://localhost:8080/"
        },
        "id": "cVwuK6u--yZm",
        "outputId": "dc31c823-d28b-4856-f1d9-1f6d07183abc"
      },
      "execution_count": null,
      "outputs": [
        {
          "output_type": "stream",
          "name": "stderr",
          "text": [
            "ERROR:root:error\n"
          ]
        }
      ]
    },
    {
      "cell_type": "markdown",
      "source": [
        "14. Write a Python program that prints the content of a file and handles the case when the file is empty?"
      ],
      "metadata": {
        "id": "Uqjfz8sdsihe"
      }
    },
    {
      "cell_type": "code",
      "source": [
        "with open(\"newfile.text\", \"r\") as d:\n",
        "  c = d.read()\n",
        "  if c:\n",
        "    print(c)\n",
        "  else :\n",
        "    print(\"empty\")"
      ],
      "metadata": {
        "colab": {
          "base_uri": "https://localhost:8080/"
        },
        "id": "JsiaQuTl_ZdN",
        "outputId": "8d8a8eee-9ec3-4813-dbac-02d722a0d12c"
      },
      "execution_count": null,
      "outputs": [
        {
          "output_type": "stream",
          "name": "stdout",
          "text": [
            "welcome to new file, this is a story book, this story is about wild life\n",
            "new line is appended \n",
            "new line is appended \n",
            "new line is appended \n",
            "new line is appended \n",
            "new line is appended \n",
            "new line is appended \n",
            "new line is appended new line is appended \n"
          ]
        }
      ]
    },
    {
      "cell_type": "markdown",
      "source": [
        "15. Demonstrate how to use memory profiling to check the memory usage of a small program?"
      ],
      "metadata": {
        "id": "XCvYjfhesieD"
      }
    },
    {
      "cell_type": "code",
      "source": [
        "pip install memory_profiler"
      ],
      "metadata": {
        "colab": {
          "base_uri": "https://localhost:8080/"
        },
        "id": "HLeEPahik_tX",
        "outputId": "ec1ba1ac-cdef-47b1-e2b5-2a55ef3b6e17"
      },
      "execution_count": 2,
      "outputs": [
        {
          "output_type": "stream",
          "name": "stdout",
          "text": [
            "Collecting memory_profiler\n",
            "  Downloading memory_profiler-0.61.0-py3-none-any.whl.metadata (20 kB)\n",
            "Requirement already satisfied: psutil in /usr/local/lib/python3.11/dist-packages (from memory_profiler) (5.9.5)\n",
            "Downloading memory_profiler-0.61.0-py3-none-any.whl (31 kB)\n",
            "Installing collected packages: memory_profiler\n",
            "Successfully installed memory_profiler-0.61.0\n"
          ]
        }
      ]
    },
    {
      "cell_type": "code",
      "source": [
        "from memory_profiler import profile\n",
        "@profile\n",
        "def m_fun():\n",
        "  m_list = []\n",
        "  for i in range(50):\n",
        "    m_list.append(i)\n",
        "  return m_list"
      ],
      "metadata": {
        "id": "ohNloLtQm67Q"
      },
      "execution_count": 12,
      "outputs": []
    },
    {
      "cell_type": "markdown",
      "source": [
        "16. Write a Python program to create and write a list of numbers to a file, one number per line?"
      ],
      "metadata": {
        "id": "tXaFqZiZsibw"
      }
    },
    {
      "cell_type": "code",
      "source": [
        "a = list(range(1, 50))\n",
        "with open(\"a.txt\", \"w\") as file:\n",
        "  for d in a:\n",
        "    file.write(f\"{a}\\n\")"
      ],
      "metadata": {
        "id": "y4vllOAMXF2V"
      },
      "execution_count": 9,
      "outputs": []
    },
    {
      "cell_type": "markdown",
      "source": [
        "17. How would you implement a basic logging setup that logs to a file with rotation after 1MB?"
      ],
      "metadata": {
        "id": "iZVYYQegsiZJ"
      }
    },
    {
      "cell_type": "code",
      "source": [
        "import logging\n",
        "from logging.handlers import RotatingFileHandler\n",
        "\n",
        "logger = logging.getLogger(\"story\")\n",
        "logger.setLevel(logging.INFO)\n",
        "\n",
        "handler = RotatingFileHandler(\"a.log\", maxBytes = 1*1024*1024, backupCount = 3)\n",
        "logger.addHandler(handler)\n",
        "logger.info(\"this is my stroy\")"
      ],
      "metadata": {
        "colab": {
          "base_uri": "https://localhost:8080/"
        },
        "id": "pnXTDcdz3Tc0",
        "outputId": "d31a82e8-0707-4721-bf52-eb07c63371c2"
      },
      "execution_count": 13,
      "outputs": [
        {
          "output_type": "stream",
          "name": "stderr",
          "text": [
            "INFO:story:this is my stroy\n"
          ]
        }
      ]
    },
    {
      "cell_type": "markdown",
      "source": [
        "18. Write a program that handles both IndexError and KeyError using a try-except block?"
      ],
      "metadata": {
        "id": "fxHt4Ej7sNq2"
      }
    },
    {
      "cell_type": "code",
      "source": [
        "from os import name\n",
        "try:\n",
        "  c = [23, 45, 56, 78, 89, 90]\n",
        "  print(c)\n",
        "\n",
        "  dict_a = {'age': '34', 'class': '6'}\n",
        "  print(dict_a[name])\n",
        "except IndexError:\n",
        "  print(\"index eror\")\n",
        "except KeyError:\n",
        "  print(\"this is key error\")"
      ],
      "metadata": {
        "colab": {
          "base_uri": "https://localhost:8080/"
        },
        "id": "8xPJbNDz43Bd",
        "outputId": "86785782-0dc4-44ee-f81a-4658a62126b4"
      },
      "execution_count": null,
      "outputs": [
        {
          "output_type": "stream",
          "name": "stdout",
          "text": [
            "[23, 45, 56, 78, 89, 90]\n",
            "this is key error\n"
          ]
        }
      ]
    },
    {
      "cell_type": "markdown",
      "source": [
        "19. How would you open a file and read its contents using a context manager in Python?"
      ],
      "metadata": {
        "id": "GHbdMlsZsvmy"
      }
    },
    {
      "cell_type": "code",
      "source": [
        "with open(\"newfile.text\", \"r\") as h:\n",
        "  contents = h.read()\n",
        "  print(contents)"
      ],
      "metadata": {
        "colab": {
          "base_uri": "https://localhost:8080/"
        },
        "id": "uUCxfUMJ57vX",
        "outputId": "93b2aaa5-111d-4e70-e8ba-dba1103a1751"
      },
      "execution_count": null,
      "outputs": [
        {
          "output_type": "stream",
          "name": "stdout",
          "text": [
            "welcome to new file, this is a story book, this story is about wild life\n"
          ]
        }
      ]
    },
    {
      "cell_type": "markdown",
      "source": [
        "20. Write a Python program that reads a file and prints the number of occurrences of a specific word?"
      ],
      "metadata": {
        "id": "yEdwPeg2svjN"
      }
    },
    {
      "cell_type": "code",
      "source": [
        "with open(\"newfile.text\", \"w\") as d:\n",
        "  d.write(\"welcome to new file, this is a story book, this story is about wild life\")\n",
        "\n",
        "\n",
        "\n",
        "search_word = \"my name\"\n",
        "count = 0\n",
        "\n",
        "with open(\"newfile.text\", \"r\") as g:\n",
        "  for line in g:\n",
        "    count += line.lower().count(search_word.lower())\n",
        "\n",
        "print(f\"the word {search_word}, occured {count} times. \")"
      ],
      "metadata": {
        "colab": {
          "base_uri": "https://localhost:8080/"
        },
        "id": "Vg_cf5FD6U0N",
        "outputId": "061693a5-89dc-44ee-9600-3966b9c7671d"
      },
      "execution_count": 16,
      "outputs": [
        {
          "output_type": "stream",
          "name": "stdout",
          "text": [
            "the word my name, occured 0 times. \n"
          ]
        }
      ]
    },
    {
      "cell_type": "markdown",
      "source": [
        "21. How can you check if a file is empty before attempting to read its contents?"
      ],
      "metadata": {
        "id": "Ec-ndQgCsvg0"
      }
    },
    {
      "cell_type": "code",
      "source": [
        "import os\n",
        "a = \"newfile.text\"\n",
        "\n",
        "if os.path.getsize(a) == 0:\n",
        "  print(\"empty\")\n",
        "else:\n",
        "    with open(a, \"r\") as k:\n",
        "      print(k.read())"
      ],
      "metadata": {
        "colab": {
          "base_uri": "https://localhost:8080/"
        },
        "id": "jCGWlDgH71fE",
        "outputId": "81f55e07-79c1-4033-8fd7-2b8dca49f160"
      },
      "execution_count": null,
      "outputs": [
        {
          "output_type": "stream",
          "name": "stdout",
          "text": [
            "welcome to new file, this is a story book, this story is about wild life\n"
          ]
        }
      ]
    },
    {
      "cell_type": "markdown",
      "source": [
        "22. Write a Python program that writes to a log file when an error occurs during file handling.\n"
      ],
      "metadata": {
        "id": "8g7tK4sXsvd8"
      }
    },
    {
      "cell_type": "code",
      "source": [
        "import logging\n",
        "\n",
        "logging.basicConfig(m = \"newfile.text\", level= logging.ERROR)\n",
        "\n",
        "\n",
        "try:\n",
        "  with open(\"newfile.text\", \"r\") as k:\n",
        "    content = m.read()\n",
        "except Exception  as e:\n",
        "  logging.error(\"error occured while opening\", e)"
      ],
      "metadata": {
        "colab": {
          "base_uri": "https://localhost:8080/"
        },
        "id": "i9E-yF1y87Jl",
        "outputId": "9ba3e4e8-ea96-4fe5-f1d8-7ee10cc6f8c6"
      },
      "execution_count": null,
      "outputs": [
        {
          "output_type": "stream",
          "name": "stderr",
          "text": [
            "--- Logging error ---\n",
            "Traceback (most recent call last):\n",
            "  File \"<ipython-input-51-1c5ab708d17c>\", line 8, in <cell line: 0>\n",
            "    content = m.read()\n",
            "              ^\n",
            "NameError: name 'm' is not defined\n",
            "\n",
            "During handling of the above exception, another exception occurred:\n",
            "\n",
            "Traceback (most recent call last):\n",
            "  File \"/usr/lib/python3.11/logging/__init__.py\", line 1110, in emit\n",
            "    msg = self.format(record)\n",
            "          ^^^^^^^^^^^^^^^^^^^\n",
            "  File \"/usr/lib/python3.11/logging/__init__.py\", line 953, in format\n",
            "    return fmt.format(record)\n",
            "           ^^^^^^^^^^^^^^^^^^\n",
            "  File \"/usr/lib/python3.11/logging/__init__.py\", line 687, in format\n",
            "    record.message = record.getMessage()\n",
            "                     ^^^^^^^^^^^^^^^^^^^\n",
            "  File \"/usr/lib/python3.11/logging/__init__.py\", line 377, in getMessage\n",
            "    msg = msg % self.args\n",
            "          ~~~~^~~~~~~~~~~\n",
            "TypeError: not all arguments converted during string formatting\n",
            "Call stack:\n",
            "  File \"<frozen runpy>\", line 198, in _run_module_as_main\n",
            "  File \"<frozen runpy>\", line 88, in _run_code\n",
            "  File \"/usr/local/lib/python3.11/dist-packages/colab_kernel_launcher.py\", line 37, in <module>\n",
            "    ColabKernelApp.launch_instance()\n",
            "  File \"/usr/local/lib/python3.11/dist-packages/traitlets/config/application.py\", line 992, in launch_instance\n",
            "    app.start()\n",
            "  File \"/usr/local/lib/python3.11/dist-packages/ipykernel/kernelapp.py\", line 712, in start\n",
            "    self.io_loop.start()\n",
            "  File \"/usr/local/lib/python3.11/dist-packages/tornado/platform/asyncio.py\", line 205, in start\n",
            "    self.asyncio_loop.run_forever()\n",
            "  File \"/usr/lib/python3.11/asyncio/base_events.py\", line 608, in run_forever\n",
            "    self._run_once()\n",
            "  File \"/usr/lib/python3.11/asyncio/base_events.py\", line 1936, in _run_once\n",
            "    handle._run()\n",
            "  File \"/usr/lib/python3.11/asyncio/events.py\", line 84, in _run\n",
            "    self._context.run(self._callback, *self._args)\n",
            "  File \"/usr/local/lib/python3.11/dist-packages/ipykernel/kernelbase.py\", line 510, in dispatch_queue\n",
            "    await self.process_one()\n",
            "  File \"/usr/local/lib/python3.11/dist-packages/ipykernel/kernelbase.py\", line 499, in process_one\n",
            "    await dispatch(*args)\n",
            "  File \"/usr/local/lib/python3.11/dist-packages/ipykernel/kernelbase.py\", line 406, in dispatch_shell\n",
            "    await result\n",
            "  File \"/usr/local/lib/python3.11/dist-packages/ipykernel/kernelbase.py\", line 730, in execute_request\n",
            "    reply_content = await reply_content\n",
            "  File \"/usr/local/lib/python3.11/dist-packages/ipykernel/ipkernel.py\", line 383, in do_execute\n",
            "    res = shell.run_cell(\n",
            "  File \"/usr/local/lib/python3.11/dist-packages/ipykernel/zmqshell.py\", line 528, in run_cell\n",
            "    return super().run_cell(*args, **kwargs)\n",
            "  File \"/usr/local/lib/python3.11/dist-packages/IPython/core/interactiveshell.py\", line 2975, in run_cell\n",
            "    result = self._run_cell(\n",
            "  File \"/usr/local/lib/python3.11/dist-packages/IPython/core/interactiveshell.py\", line 3030, in _run_cell\n",
            "    return runner(coro)\n",
            "  File \"/usr/local/lib/python3.11/dist-packages/IPython/core/async_helpers.py\", line 78, in _pseudo_sync_runner\n",
            "    coro.send(None)\n",
            "  File \"/usr/local/lib/python3.11/dist-packages/IPython/core/interactiveshell.py\", line 3257, in run_cell_async\n",
            "    has_raised = await self.run_ast_nodes(code_ast.body, cell_name,\n",
            "  File \"/usr/local/lib/python3.11/dist-packages/IPython/core/interactiveshell.py\", line 3473, in run_ast_nodes\n",
            "    if (await self.run_code(code, result,  async_=asy)):\n",
            "  File \"/usr/local/lib/python3.11/dist-packages/IPython/core/interactiveshell.py\", line 3553, in run_code\n",
            "    exec(code_obj, self.user_global_ns, self.user_ns)\n",
            "  File \"<ipython-input-51-1c5ab708d17c>\", line 10, in <cell line: 0>\n",
            "    logging.error(\"error occured while opening\", e)\n",
            "Message: 'error occured while opening'\n",
            "Arguments: (NameError(\"name 'm' is not defined\"),)\n"
          ]
        }
      ]
    },
    {
      "cell_type": "markdown",
      "source": [
        "23. How would you check if a file exists before attempting to read it in Python?"
      ],
      "metadata": {
        "id": "cj_nle9wsNwH"
      }
    },
    {
      "cell_type": "code",
      "source": [
        "import os\n",
        "s_f = \"newfile.text\"\n",
        "if os.path.exists(s_f):\n",
        "  with open(s_f, \"r\") as k:\n",
        "    contents = k.read()\n",
        "    print(\"this file exixts\")\n",
        "else:\n",
        "  print(\"their is no such file exists\")"
      ],
      "metadata": {
        "colab": {
          "base_uri": "https://localhost:8080/"
        },
        "id": "IxZV3OX_-M1-",
        "outputId": "5aa56426-793f-4211-c951-d76569da32ab"
      },
      "execution_count": null,
      "outputs": [
        {
          "output_type": "stream",
          "name": "stdout",
          "text": [
            "this file exixts\n"
          ]
        }
      ]
    },
    {
      "cell_type": "code",
      "source": [],
      "metadata": {
        "id": "vmnNrwuy_FIJ"
      },
      "execution_count": null,
      "outputs": []
    },
    {
      "cell_type": "markdown",
      "source": [
        "1. What is the difference between interpreted and compiled languages?\n"
      ],
      "metadata": {
        "id": "fOhHj7e7_ufd"
      }
    },
    {
      "cell_type": "markdown",
      "source": [
        "in case of interpreter code is executed line by line\n",
        "\n",
        "in complied language code is transformed into meachine language"
      ],
      "metadata": {
        "id": "ltZAw6zPC6Oi"
      }
    },
    {
      "cell_type": "markdown",
      "source": [
        "2. What is exception handling in Python?\n"
      ],
      "metadata": {
        "id": "3QrUjWvVAWgF"
      }
    },
    {
      "cell_type": "markdown",
      "source": [
        "it is mechanism to handle runtime errors"
      ],
      "metadata": {
        "id": "spGlJ2K9DS6P"
      }
    },
    {
      "cell_type": "markdown",
      "source": [
        "3. What is the purpose of the finally block in exception handling?\n",
        "\n",
        "\n",
        "\n"
      ],
      "metadata": {
        "id": "4TrIEZ-TAWcn"
      }
    },
    {
      "cell_type": "markdown",
      "source": [
        "code which is inside the finally block always executes ireespective of the exception"
      ],
      "metadata": {
        "id": "qY05QTfGDbSR"
      }
    },
    {
      "cell_type": "markdown",
      "source": [
        "4. What is logging in Python?"
      ],
      "metadata": {
        "id": "d400pJKMBy0Z"
      }
    },
    {
      "cell_type": "markdown",
      "source": [
        "logging records the state and stage of our function  and it also helps in understanding, monitering and debugging the code"
      ],
      "metadata": {
        "id": "eEN4wnklDuAj"
      }
    },
    {
      "cell_type": "markdown",
      "source": [
        "5. What is the significance of the __del__ method in Python?\n"
      ],
      "metadata": {
        "id": "U2sJE3ZIAWZ6"
      }
    },
    {
      "cell_type": "markdown",
      "source": [
        "it helps in deliting an object and used to define destructor behavior"
      ],
      "metadata": {
        "id": "urVCWnlKElIA"
      }
    },
    {
      "cell_type": "markdown",
      "source": [
        "6. What is the difference between import and from ... import in Python?\n"
      ],
      "metadata": {
        "id": "SgZ19fhFAWXP"
      }
    },
    {
      "cell_type": "markdown",
      "source": [
        "import imports the whole module\n",
        "\n",
        "from __ import imports a specific function"
      ],
      "metadata": {
        "id": "atS9t1UGE3P4"
      }
    },
    {
      "cell_type": "markdown",
      "source": [
        "7. How can you handle multiple exceptions in Python?\n"
      ],
      "metadata": {
        "id": "he05NvntAWUi"
      }
    },
    {
      "cell_type": "markdown",
      "source": [
        "using try and except  method"
      ],
      "metadata": {
        "id": "Hk11TEfCFcWl"
      }
    },
    {
      "cell_type": "markdown",
      "source": [
        "8. What is the purpose of the with statement when handling files in Python?\n"
      ],
      "metadata": {
        "id": "O63s5IkpAWRr"
      }
    },
    {
      "cell_type": "markdown",
      "source": [
        "it helps in opening and closing of file even if eception occurs"
      ],
      "metadata": {
        "id": "QJUdn5N9Fc4-"
      }
    },
    {
      "cell_type": "markdown",
      "source": [
        "9. What is the difference between multithreading and multiprocessing?\n"
      ],
      "metadata": {
        "id": "4vPp14P2AWO1"
      }
    },
    {
      "cell_type": "markdown",
      "source": [
        "multithreading takes more time than multiprocessing\n",
        "\n",
        "as it does not perform the functions simultaniously"
      ],
      "metadata": {
        "id": "ZUo73EBGFxuG"
      }
    },
    {
      "cell_type": "markdown",
      "source": [
        "10. What are the advantages of using logging in a program0\n"
      ],
      "metadata": {
        "id": "dvZBdAEfAWL8"
      }
    },
    {
      "cell_type": "markdown",
      "source": [
        "its is better in debugging and monitering"
      ],
      "metadata": {
        "id": "0MokH2hRFyUr"
      }
    },
    {
      "cell_type": "markdown",
      "source": [
        "\n",
        "\n",
        "11. What are the basic steps involved in exception handling in python"
      ],
      "metadata": {
        "id": "VvVe80WcAWJJ"
      }
    },
    {
      "cell_type": "markdown",
      "source": [
        "try, except, else, finally block, raise"
      ],
      "metadata": {
        "id": "m2n1e9RuFy4g"
      }
    },
    {
      "cell_type": "markdown",
      "source": [
        "12. Why is memory management important in Python?"
      ],
      "metadata": {
        "id": "Vv0GU08YAWGO"
      }
    },
    {
      "cell_type": "markdown",
      "source": [
        "\n",
        "it prevents memory leaks and enhance the performance"
      ],
      "metadata": {
        "id": "yZQPrOZzGtxG"
      }
    },
    {
      "cell_type": "markdown",
      "source": [
        "13. What is the role of try and except in exception handling?\n"
      ],
      "metadata": {
        "id": "o4OTvnJAAWDW"
      }
    },
    {
      "cell_type": "markdown",
      "source": [
        "it prevents program crashing and it handles excepton effectively"
      ],
      "metadata": {
        "id": "a-4EX6t6GuPa"
      }
    },
    {
      "cell_type": "markdown",
      "source": [
        "14. How does Python's garbage collection system work?"
      ],
      "metadata": {
        "id": "tq_yKkmVAWAp"
      }
    },
    {
      "cell_type": "markdown",
      "source": [
        "it autometically reclaims memory occupied by objects that are no longer in use by using reference counting  and general garbage collection"
      ],
      "metadata": {
        "id": "c3DGLlQSGuyW"
      }
    },
    {
      "cell_type": "markdown",
      "source": [
        "15. What is the purpose of the else block in exception handling?\n"
      ],
      "metadata": {
        "id": "zG1PE2cgAV7K"
      }
    },
    {
      "cell_type": "markdown",
      "source": [
        "it run when their is no exception in if block"
      ],
      "metadata": {
        "id": "0P-Gic43HmqL"
      }
    },
    {
      "cell_type": "markdown",
      "source": [
        "16. What are the common logging levels in Python0\n"
      ],
      "metadata": {
        "id": "ua_WIxk8AV4z"
      }
    },
    {
      "cell_type": "markdown",
      "source": [
        "DEEBUG, INFO, WARNING, ERROR"
      ],
      "metadata": {
        "id": "-wDCiE43HnYw"
      }
    },
    {
      "cell_type": "markdown",
      "source": [
        "17. What is the difference between os.fork() and multiprocessing in Python?\n"
      ],
      "metadata": {
        "id": "vdQpNlknAV2O"
      }
    },
    {
      "cell_type": "markdown",
      "source": [
        "os.fork() is a low level tool suited for simple use\n",
        "\n",
        "while multithreading is a portable module design used for parallel processing"
      ],
      "metadata": {
        "id": "7XowM5WWHn0q"
      }
    },
    {
      "cell_type": "markdown",
      "source": [
        "18. What is the importance of closing a file in Python0\n"
      ],
      "metadata": {
        "id": "AyRQ6MiSAVzU"
      }
    },
    {
      "cell_type": "markdown",
      "source": [
        "it is important to avoid resource leak"
      ],
      "metadata": {
        "id": "5Oa1I7iKHojA"
      }
    },
    {
      "cell_type": "markdown",
      "source": [
        "19. What is the difference between file.read() and file.readline() in Python?\n"
      ],
      "metadata": {
        "id": "Ge_-mZHWAVwo"
      }
    },
    {
      "cell_type": "markdown",
      "source": [
        "READ()>> reads entire file or particular element\n",
        "\n",
        "readline()>> reads one line at a time"
      ],
      "metadata": {
        "id": "2aP1BX98HpOu"
      }
    },
    {
      "cell_type": "markdown",
      "source": [
        "20. What is the logging module in Python used for?"
      ],
      "metadata": {
        "id": "Qu1cUPk7AVuS"
      }
    },
    {
      "cell_type": "markdown",
      "source": [
        "it is used to track events with different  levels"
      ],
      "metadata": {
        "id": "1t9CkeqIIe6w"
      }
    },
    {
      "cell_type": "markdown",
      "source": [
        "21. What is the os module in Python used for in file handling?"
      ],
      "metadata": {
        "id": "4-7CXFzcAVsS"
      }
    },
    {
      "cell_type": "markdown",
      "source": [
        "it helps to file path\n"
      ],
      "metadata": {
        "id": "H2-LzIi6IfbO"
      }
    },
    {
      "cell_type": "markdown",
      "source": [
        "22. What are the challenges associated with memory management in Python?"
      ],
      "metadata": {
        "id": "ubfyhKxnAVp0"
      }
    },
    {
      "cell_type": "markdown",
      "source": [
        "avoiding memeory leaks, handling large database"
      ],
      "metadata": {
        "id": "r657cm_tIgE9"
      }
    },
    {
      "cell_type": "markdown",
      "source": [
        "24.  How do you raise an exception manually in Python?\n"
      ],
      "metadata": {
        "id": "T2_ZjdocAVnP"
      }
    },
    {
      "cell_type": "markdown",
      "source": [
        "use raise\n",
        "ExceptionType(\"word\")"
      ],
      "metadata": {
        "id": "7_LzIVADJijZ"
      }
    },
    {
      "cell_type": "markdown",
      "source": [
        "25. Why is it important to use multithreading in certain applications?"
      ],
      "metadata": {
        "id": "Tja_xB3vAVkk"
      }
    },
    {
      "cell_type": "markdown",
      "source": [
        "it makes the programes more efficient and responsive"
      ],
      "metadata": {
        "id": "iS74M6XzIhLo"
      }
    }
  ]
}